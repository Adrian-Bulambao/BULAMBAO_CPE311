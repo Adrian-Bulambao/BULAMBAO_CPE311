{
 "cells": [
  {
   "cell_type": "code",
   "execution_count": 36,
   "id": "83a49aec-9826-4b78-895e-e6a8659bdb92",
   "metadata": {},
   "outputs": [
    {
     "name": "stdout",
     "output_type": "stream",
     "text": [
      "[7, 8]\n"
     ]
    }
   ],
   "source": [
    "# first attempt using two lists to get the max subsequence appending each sum and sequence \n",
    "def sequence(sq):\n",
    "    a = []\n",
    "    b = []\n",
    "    for i in range(len(sq)-1):\n",
    "        a.append(sq[i]+sq[i+1])\n",
    "        b.append([sq[i],sq[i+1]])\n",
    "    c = a.index(max(a))\n",
    "    return b[c]\n",
    "seq = [3,4,6,5,7,8,2]\n",
    "print(sequence(seq))"
   ]
  },
  {
   "cell_type": "code",
   "execution_count": 43,
   "id": "90b2a462-7559-4f34-be39-7d6ee93dd476",
   "metadata": {},
   "outputs": [
    {
     "name": "stdout",
     "output_type": "stream",
     "text": [
      "(11, 6)\n"
     ]
    }
   ],
   "source": [
    "# second attempt using one list to get the max subsequence appending each sum to a list finding the maximum value and getting the index \n",
    "def sequences(sq):\n",
    "    a = []\n",
    "    for i in range(len(sq)-1):\n",
    "        a.append(sq[i]+sq[i+1])\n",
    "        c = a.index(max(a))\n",
    "    return sq[c],sq[c+1]\n",
    "seq = [3,4,6,5,7,8,2,11,6]\n",
    "print(sequences(seq))"
   ]
  },
  {
   "cell_type": "code",
   "execution_count": null,
   "id": "71112099-5fc9-4a71-a31a-07c463e4d397",
   "metadata": {},
   "outputs": [],
   "source": []
  }
 ],
 "metadata": {
  "kernelspec": {
   "display_name": "Python 3 (ipykernel)",
   "language": "python",
   "name": "python3"
  },
  "language_info": {
   "codemirror_mode": {
    "name": "ipython",
    "version": 3
   },
   "file_extension": ".py",
   "mimetype": "text/x-python",
   "name": "python",
   "nbconvert_exporter": "python",
   "pygments_lexer": "ipython3",
   "version": "3.12.4"
  }
 },
 "nbformat": 4,
 "nbformat_minor": 5
}
