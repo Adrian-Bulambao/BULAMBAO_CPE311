{
 "cells": [
  {
   "cell_type": "code",
   "execution_count": 33,
   "id": "83a49aec-9826-4b78-895e-e6a8659bdb92",
   "metadata": {},
   "outputs": [
    {
     "name": "stdout",
     "output_type": "stream",
     "text": [
      "[8, 9]\n"
     ]
    }
   ],
   "source": [
    "def sequence(sq):\n",
    "    a = []\n",
    "    b = []\n",
    "    for i in range(len(sq)-1):\n",
    "        a.append(sq[i]+sq[i+1])\n",
    "        b.append([sq[i],sq[i+1]])\n",
    "    c = a.index(max(a))\n",
    "    return b[c]\n",
    "seq = [3,4,6,5,7,8,9]\n",
    "print(sequence(seq))"
   ]
  },
  {
   "cell_type": "code",
   "execution_count": null,
   "id": "5a337512-0df6-4ff7-93c3-18a8d33ed0a0",
   "metadata": {},
   "outputs": [],
   "source": []
  }
 ],
 "metadata": {
  "kernelspec": {
   "display_name": "Python 3 (ipykernel)",
   "language": "python",
   "name": "python3"
  },
  "language_info": {
   "codemirror_mode": {
    "name": "ipython",
    "version": 3
   },
   "file_extension": ".py",
   "mimetype": "text/x-python",
   "name": "python",
   "nbconvert_exporter": "python",
   "pygments_lexer": "ipython3",
   "version": "3.12.4"
  }
 },
 "nbformat": 4,
 "nbformat_minor": 5
}
