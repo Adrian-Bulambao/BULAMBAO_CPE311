{
  "nbformat": 4,
  "nbformat_minor": 0,
  "metadata": {
    "colab": {
      "provenance": [],
      "authorship_tag": "ABX9TyNc8IrGrNdyRv3K+jSq7m68",
      "include_colab_link": true
    },
    "kernelspec": {
      "name": "python3",
      "display_name": "Python 3"
    },
    "language_info": {
      "name": "python"
    }
  },
  "cells": [
    {
      "cell_type": "markdown",
      "metadata": {
        "id": "view-in-github",
        "colab_type": "text"
      },
      "source": [
        "<a href=\"https://colab.research.google.com/github/Adrian-Bulambao/BULAMBAO_CPE311/blob/main/Hands_on_Activity_2_1_The_Tower_of_Hanoi_Problem_Bulambao.ipynb\" target=\"_parent\"><img src=\"https://colab.research.google.com/assets/colab-badge.svg\" alt=\"Open In Colab\"/></a>"
      ]
    },
    {
      "cell_type": "markdown",
      "source": [
        "##Recursion\n",
        "\n"
      ],
      "metadata": {
        "id": "ejy0wzV9wo5k"
      }
    },
    {
      "cell_type": "code",
      "source": [
        "def move_disk(from_pole, to_pole, from_name, to_name):\n",
        "    # MOves the disks from one pole to another\n",
        "    disk = from_pole.pop() #pops the disk in the list\n",
        "    to_pole.append(disk)#places the disk to the next pole\n",
        "    print(f\"Move disk {disk} from {from_name} to {to_name}\") #prints out the move that was made\n",
        "\n",
        "def solve(n, source, auxiliary, destination, source_name, auxiliary_name, destination_name):\n",
        "    if n == 1:\n",
        "        # MOves only one disk per move\n",
        "        move_disk(source, destination, source_name, destination_name)\n",
        "    else:\n",
        "        # Move n-1 disks from source to auxiliary\n",
        "        solve(n - 1, source, destination, auxiliary, source_name, destination_name, auxiliary_name)\n",
        "        # Move the nth disk from source to destination\n",
        "        move_disk(source, destination, source_name, destination_name)\n",
        "        # Move the n-1 disks from auxiliary to destination\n",
        "        solve(n - 1, auxiliary, source, destination, auxiliary_name, source_name, destination_name)\n",
        "\n",
        "def start_game(source,auxiliary,destination):\n",
        "    print(f\"Source: {source}\")\n",
        "    print(f\"Auxiliary: {auxiliary}\")\n",
        "    print(f\"Destination: {destination}\")\n",
        "    print(\"Moves:\")\n",
        "    solve(len(source), source, auxiliary, destination, \"Source\", \"Auxiliary\", \"Destination\")\n",
        "    print(f\"Source: {source}\")\n",
        "    print(f\"Auxiliary: {auxiliary}\")\n",
        "    print(f\"Destination: {destination}\")\n",
        "\n",
        "\n",
        "source = [3, 2, 1]\n",
        "auxiliary = []\n",
        "destination = []\n",
        "start_game(source,auxiliary,destination)"
      ],
      "metadata": {
        "colab": {
          "base_uri": "https://localhost:8080/"
        },
        "id": "Y-e928LOi7Fa",
        "outputId": "9d9a426d-454c-4fae-8e66-1e41e48ff277"
      },
      "execution_count": 10,
      "outputs": [
        {
          "output_type": "stream",
          "name": "stdout",
          "text": [
            "Source: [3, 2, 1]\n",
            "Auxiliary: []\n",
            "Destination: []\n",
            "Moves:\n",
            "Move disk 1 from Source to Destination\n",
            "Move disk 2 from Source to Auxiliary\n",
            "Move disk 1 from Destination to Auxiliary\n",
            "Move disk 3 from Source to Destination\n",
            "Move disk 1 from Auxiliary to Source\n",
            "Move disk 2 from Auxiliary to Destination\n",
            "Move disk 1 from Source to Destination\n",
            "Source: []\n",
            "Auxiliary: []\n",
            "Destination: [3, 2, 1]\n"
          ]
        }
      ]
    },
    {
      "cell_type": "markdown",
      "source": [
        "##Loop-based"
      ],
      "metadata": {
        "id": "ktbFm0wpwoFa"
      }
    },
    {
      "cell_type": "code",
      "source": [
        "# Function to move a disk from one pole to another\n",
        "def move_disk(from_pole, to_pole, from_name, to_name):\n",
        "    disk = from_pole.pop()  # Remove the top disk from the source pole\n",
        "    to_pole.append(disk)  # Place the disk on the destination pole\n",
        "    print(f\"Move disk {disk} from {from_name} to {to_name}\")  # Print the move\n",
        "\n",
        "# Function to start and execute the Tower of Hanoi game\n",
        "def start_game(source, auxiliary, destination):\n",
        "    print(f\"Source: {source}\")  # Print initial source pole\n",
        "    print(f\"Auxiliary: {auxiliary}\")  # Print initial auxiliary pole\n",
        "    print(f\"Destination: {destination}\")  # Print initial destination pole\n",
        "    print(\"Moves:\")\n",
        "\n",
        "    total_moves = 2**len(source) - 1  # Calculate total moves required\n",
        "    poles = [source, auxiliary, destination]  # Store pole lists in an array\n",
        "    names = [\"Source\", \"Auxiliary\", \"Destination\"]  # Store pole names in an array\n",
        "\n",
        "    # Swap auxiliary and destination if the number of disks is even\n",
        "    if len(source) % 2 == 0:\n",
        "        names[1], names[2] = names[2], names[1]\n",
        "        poles[1], poles[2] = poles[2], poles[1]\n",
        "\n",
        "    # Perform the moves\n",
        "    for move in range(1, total_moves + 1):\n",
        "        from_index = (move & move - 1) % 3  # Determine source pole index\n",
        "        to_index = ((move | move - 1) + 1) % 3  # Determine destination pole index\n",
        "\n",
        "        # Move disk from the source to the destination\n",
        "        if poles[from_index]:\n",
        "            move_disk(poles[from_index], poles[to_index], names[from_index], names[to_index])\n",
        "        else:  # If the source is empty, move from the destination back\n",
        "            move_disk(poles[to_index], poles[from_index], names[to_index], names[from_index])\n",
        "\n",
        "    # Print final state of the poles\n",
        "    print(f\"Source: {source}\")\n",
        "    print(f\"Auxiliary: {auxiliary}\")\n",
        "    print(f\"Destination: {destination}\")\n",
        "\n",
        "# Initialize the game with three disks\n",
        "source = [3, 2, 1]\n",
        "auxiliary = []\n",
        "destination = []\n",
        "\n",
        "# Start the Tower of Hanoi solving\n",
        "start_game(source, auxiliary, destination)\n"
      ],
      "metadata": {
        "colab": {
          "base_uri": "https://localhost:8080/"
        },
        "id": "01MdH-9i3hJV",
        "outputId": "96ec214a-ee90-4ccc-a989-082e1006fa77"
      },
      "execution_count": 16,
      "outputs": [
        {
          "output_type": "stream",
          "name": "stdout",
          "text": [
            "Source: [3, 2, 1]\n",
            "Auxiliary: []\n",
            "Destination: []\n",
            "Moves:\n",
            "Move disk 1 from Source to Source\n",
            "Move disk 1 from Source to Destination\n",
            "Move disk 2 from Source to Auxiliary\n",
            "Move disk 1 from Destination to Auxiliary\n",
            "Move disk 3 from Source to Destination\n",
            "Move disk 1 from Auxiliary to Source\n",
            "Move disk 2 from Auxiliary to Destination\n",
            "Move disk 1 from Source to Destination\n",
            "Source: []\n",
            "Auxiliary: []\n",
            "Destination: [3, 2, 1]\n"
          ]
        }
      ]
    },
    {
      "cell_type": "markdown",
      "source": [
        "#Conclusion:\n",
        "\n",
        "\n",
        "\n",
        "###In this activity, the tower of hanoi problem was was solved using a recursive and looping method, The function solve() follows the recursive approach by breaking the problem into smaller subproblems. The loop-based approach was also used, it made the solution more memory-efficient since it avoids recursion stack overhead in the deep recursive calls and instead relies on a structured loop to determine each move."
      ],
      "metadata": {
        "id": "Q-oyNsRCzv56"
      }
    }
  ]
}