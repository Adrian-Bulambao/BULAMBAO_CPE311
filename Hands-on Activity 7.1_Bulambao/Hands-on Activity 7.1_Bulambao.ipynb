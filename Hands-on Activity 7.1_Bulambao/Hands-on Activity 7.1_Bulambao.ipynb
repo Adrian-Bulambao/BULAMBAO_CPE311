{
 "cells": [
  {
   "cell_type": "markdown",
   "id": "e87bf003-3bc6-42c0-bb6f-a0a4ebdfb6bc",
   "metadata": {},
   "source": [
    "# Module 7: Data Wrangling with Pandas"
   ]
  },
  {
   "cell_type": "markdown",
   "id": "43c52348-742b-47b0-a93a-0d71190539f2",
   "metadata": {},
   "source": [
    "## CPE311 Computational Thinking with Python"
   ]
  },
  {
   "cell_type": "markdown",
   "id": "7ca44fc3-001e-4294-a7c6-969aef7e878b",
   "metadata": {},
   "source": [
    "Name: Bulambao, Adrian Justin\n",
    "\n",
    "Section: CPE22S3"
   ]
  },
  {
   "cell_type": "markdown",
   "id": "e905a0dc-1a32-46ad-8642-031c8591b784",
   "metadata": {},
   "source": [
    "Performed on: 04/05/2025\n",
    "\n",
    "Submitted on: 04/06/2025\n",
    "\n",
    "Submitted to: Engr. Roman M. Richard"
   ]
  },
  {
   "cell_type": "markdown",
   "id": "b510eb9e-058b-43a9-b160-ca738601fbf8",
   "metadata": {},
   "source": [
    "---"
   ]
  },
  {
   "cell_type": "markdown",
   "id": "1cef141a-31f2-4bdb-9089-28670e733088",
   "metadata": {},
   "source": [
    "## 7.1 Supplementary Activity"
   ]
  },
  {
   "cell_type": "markdown",
   "id": "5b0ad33b-7fb5-419b-9bb6-8466158d24f7",
   "metadata": {},
   "source": [
    "Using the datasets provided, perform the following exercises:"
   ]
  },
  {
   "cell_type": "markdown",
   "id": "43a8778a-e16a-4a6f-adf8-0a426bd6bb52",
   "metadata": {},
   "source": [
    "## Exercise 1"
   ]
  },
  {
   "cell_type": "markdown",
   "id": "4e59d809-1d06-4a10-b5de-a4f3a5a704e4",
   "metadata": {},
   "source": [
    "We want to look at data for the Facebook, Apple, Amazon, Netflix, and Google (FAANG) stocks, but we were given each as a separate CSV file. Combine them into a single file and store the dataframe of the FAANG data as faang for the rest of the exercises:"
   ]
  },
  {
   "cell_type": "code",
   "execution_count": null,
   "id": "d29f55a6-9073-4782-a58a-2b34c9fbbf6e",
   "metadata": {},
   "outputs": [],
   "source": []
  },
  {
   "cell_type": "markdown",
   "id": "d45fa346-ab22-4f74-bb6e-cd27f48225eb",
   "metadata": {},
   "source": [
    "1.\tRead each file in.\n",
    "2.\tAdd a column to each dataframe, called ticker, indicating the ticker symbol it is for (Apple's is AAPL, for example). This is how you look up a stock. Each file's name is also the ticker symbol, so be sure to capitalize it.\n",
    "3.\tAppend them together into a single dataframe.\n",
    "4.\tSave the result in a CSV file called faang.csv.\n"
   ]
  },
  {
   "cell_type": "code",
   "execution_count": 1,
   "id": "747a2a01-5a6b-4b7c-bc29-1cfaa8f8be41",
   "metadata": {},
   "outputs": [],
   "source": [
    "# 1.\tRead each file in.\n",
    "import pandas as pd\n",
    "facebook = pd.read_csv('fb.csv')\n",
    "apple = pd.read_csv('aapl.csv')\n",
    "amazon = pd.read_csv('amzn.csv')\n",
    "netflix = pd.read_csv('nflx.csv')\n",
    "google = pd.read_csv('goog.csv')"
   ]
  },
  {
   "cell_type": "code",
   "execution_count": 2,
   "id": "4294f2aa-d428-4830-8dc2-c935630d3902",
   "metadata": {},
   "outputs": [
    {
     "data": {
      "text/html": [
       "<div>\n",
       "<style scoped>\n",
       "    .dataframe tbody tr th:only-of-type {\n",
       "        vertical-align: middle;\n",
       "    }\n",
       "\n",
       "    .dataframe tbody tr th {\n",
       "        vertical-align: top;\n",
       "    }\n",
       "\n",
       "    .dataframe thead th {\n",
       "        text-align: right;\n",
       "    }\n",
       "</style>\n",
       "<table border=\"1\" class=\"dataframe\">\n",
       "  <thead>\n",
       "    <tr style=\"text-align: right;\">\n",
       "      <th></th>\n",
       "      <th>date</th>\n",
       "      <th>open</th>\n",
       "      <th>high</th>\n",
       "      <th>low</th>\n",
       "      <th>close</th>\n",
       "      <th>volume</th>\n",
       "    </tr>\n",
       "  </thead>\n",
       "  <tbody>\n",
       "    <tr>\n",
       "      <th>0</th>\n",
       "      <td>2018-01-02</td>\n",
       "      <td>177.68</td>\n",
       "      <td>181.58</td>\n",
       "      <td>177.55</td>\n",
       "      <td>181.42</td>\n",
       "      <td>18151903</td>\n",
       "    </tr>\n",
       "  </tbody>\n",
       "</table>\n",
       "</div>"
      ],
      "text/plain": [
       "         date    open    high     low   close    volume\n",
       "0  2018-01-02  177.68  181.58  177.55  181.42  18151903"
      ]
     },
     "execution_count": 2,
     "metadata": {},
     "output_type": "execute_result"
    }
   ],
   "source": [
    "facebook.head(1)\n"
   ]
  },
  {
   "cell_type": "code",
   "execution_count": 3,
   "id": "92b81e64-616e-4b67-a2e5-8d2f9f426411",
   "metadata": {},
   "outputs": [
    {
     "data": {
      "text/html": [
       "<div>\n",
       "<style scoped>\n",
       "    .dataframe tbody tr th:only-of-type {\n",
       "        vertical-align: middle;\n",
       "    }\n",
       "\n",
       "    .dataframe tbody tr th {\n",
       "        vertical-align: top;\n",
       "    }\n",
       "\n",
       "    .dataframe thead th {\n",
       "        text-align: right;\n",
       "    }\n",
       "</style>\n",
       "<table border=\"1\" class=\"dataframe\">\n",
       "  <thead>\n",
       "    <tr style=\"text-align: right;\">\n",
       "      <th></th>\n",
       "      <th>date</th>\n",
       "      <th>open</th>\n",
       "      <th>high</th>\n",
       "      <th>low</th>\n",
       "      <th>close</th>\n",
       "      <th>volume</th>\n",
       "    </tr>\n",
       "  </thead>\n",
       "  <tbody>\n",
       "    <tr>\n",
       "      <th>0</th>\n",
       "      <td>2018-01-02</td>\n",
       "      <td>166.9271</td>\n",
       "      <td>169.0264</td>\n",
       "      <td>166.0442</td>\n",
       "      <td>168.9872</td>\n",
       "      <td>25555934</td>\n",
       "    </tr>\n",
       "  </tbody>\n",
       "</table>\n",
       "</div>"
      ],
      "text/plain": [
       "         date      open      high       low     close    volume\n",
       "0  2018-01-02  166.9271  169.0264  166.0442  168.9872  25555934"
      ]
     },
     "execution_count": 3,
     "metadata": {},
     "output_type": "execute_result"
    }
   ],
   "source": [
    "apple.head(1)"
   ]
  },
  {
   "cell_type": "code",
   "execution_count": 4,
   "id": "8ee3fc9f-8cab-4813-91c9-95ea80a34cff",
   "metadata": {},
   "outputs": [
    {
     "data": {
      "text/html": [
       "<div>\n",
       "<style scoped>\n",
       "    .dataframe tbody tr th:only-of-type {\n",
       "        vertical-align: middle;\n",
       "    }\n",
       "\n",
       "    .dataframe tbody tr th {\n",
       "        vertical-align: top;\n",
       "    }\n",
       "\n",
       "    .dataframe thead th {\n",
       "        text-align: right;\n",
       "    }\n",
       "</style>\n",
       "<table border=\"1\" class=\"dataframe\">\n",
       "  <thead>\n",
       "    <tr style=\"text-align: right;\">\n",
       "      <th></th>\n",
       "      <th>date</th>\n",
       "      <th>open</th>\n",
       "      <th>high</th>\n",
       "      <th>low</th>\n",
       "      <th>close</th>\n",
       "      <th>volume</th>\n",
       "    </tr>\n",
       "  </thead>\n",
       "  <tbody>\n",
       "    <tr>\n",
       "      <th>0</th>\n",
       "      <td>2018-01-02</td>\n",
       "      <td>1172.0</td>\n",
       "      <td>1190.0</td>\n",
       "      <td>1170.51</td>\n",
       "      <td>1189.01</td>\n",
       "      <td>2694494</td>\n",
       "    </tr>\n",
       "  </tbody>\n",
       "</table>\n",
       "</div>"
      ],
      "text/plain": [
       "         date    open    high      low    close   volume\n",
       "0  2018-01-02  1172.0  1190.0  1170.51  1189.01  2694494"
      ]
     },
     "execution_count": 4,
     "metadata": {},
     "output_type": "execute_result"
    }
   ],
   "source": [
    "amazon.head(1)"
   ]
  },
  {
   "cell_type": "code",
   "execution_count": 5,
   "id": "52f70d37-2330-46e3-a7aa-2bf14c6f35a3",
   "metadata": {},
   "outputs": [
    {
     "data": {
      "text/html": [
       "<div>\n",
       "<style scoped>\n",
       "    .dataframe tbody tr th:only-of-type {\n",
       "        vertical-align: middle;\n",
       "    }\n",
       "\n",
       "    .dataframe tbody tr th {\n",
       "        vertical-align: top;\n",
       "    }\n",
       "\n",
       "    .dataframe thead th {\n",
       "        text-align: right;\n",
       "    }\n",
       "</style>\n",
       "<table border=\"1\" class=\"dataframe\">\n",
       "  <thead>\n",
       "    <tr style=\"text-align: right;\">\n",
       "      <th></th>\n",
       "      <th>date</th>\n",
       "      <th>open</th>\n",
       "      <th>high</th>\n",
       "      <th>low</th>\n",
       "      <th>close</th>\n",
       "      <th>volume</th>\n",
       "    </tr>\n",
       "  </thead>\n",
       "  <tbody>\n",
       "    <tr>\n",
       "      <th>0</th>\n",
       "      <td>2018-01-02</td>\n",
       "      <td>196.1</td>\n",
       "      <td>201.65</td>\n",
       "      <td>195.42</td>\n",
       "      <td>201.07</td>\n",
       "      <td>10966889</td>\n",
       "    </tr>\n",
       "  </tbody>\n",
       "</table>\n",
       "</div>"
      ],
      "text/plain": [
       "         date   open    high     low   close    volume\n",
       "0  2018-01-02  196.1  201.65  195.42  201.07  10966889"
      ]
     },
     "execution_count": 5,
     "metadata": {},
     "output_type": "execute_result"
    }
   ],
   "source": [
    "netflix.head(1)"
   ]
  },
  {
   "cell_type": "code",
   "execution_count": 6,
   "id": "2ea10747-28a6-46ab-8d4c-408124e5f03f",
   "metadata": {},
   "outputs": [
    {
     "data": {
      "text/html": [
       "<div>\n",
       "<style scoped>\n",
       "    .dataframe tbody tr th:only-of-type {\n",
       "        vertical-align: middle;\n",
       "    }\n",
       "\n",
       "    .dataframe tbody tr th {\n",
       "        vertical-align: top;\n",
       "    }\n",
       "\n",
       "    .dataframe thead th {\n",
       "        text-align: right;\n",
       "    }\n",
       "</style>\n",
       "<table border=\"1\" class=\"dataframe\">\n",
       "  <thead>\n",
       "    <tr style=\"text-align: right;\">\n",
       "      <th></th>\n",
       "      <th>date</th>\n",
       "      <th>open</th>\n",
       "      <th>high</th>\n",
       "      <th>low</th>\n",
       "      <th>close</th>\n",
       "      <th>volume</th>\n",
       "    </tr>\n",
       "  </thead>\n",
       "  <tbody>\n",
       "    <tr>\n",
       "      <th>0</th>\n",
       "      <td>2018-01-02</td>\n",
       "      <td>1048.34</td>\n",
       "      <td>1066.94</td>\n",
       "      <td>1045.23</td>\n",
       "      <td>1065.0</td>\n",
       "      <td>1237564</td>\n",
       "    </tr>\n",
       "  </tbody>\n",
       "</table>\n",
       "</div>"
      ],
      "text/plain": [
       "         date     open     high      low   close   volume\n",
       "0  2018-01-02  1048.34  1066.94  1045.23  1065.0  1237564"
      ]
     },
     "execution_count": 6,
     "metadata": {},
     "output_type": "execute_result"
    }
   ],
   "source": [
    "google.head(1)"
   ]
  },
  {
   "cell_type": "code",
   "execution_count": 7,
   "id": "2bce674c-ce9c-4ca4-9a42-cfa63cee01a0",
   "metadata": {},
   "outputs": [],
   "source": [
    "# 2. Add a column to each dataframe, called ticker,\n",
    "#indicating the ticker symbol it is for (Apple's is AAPL, for example).\n",
    "#This is how you look up a stock. Each file's name is also the ticker symbol,\n",
    "#so be sure to capitalize it\n",
    "\n",
    "facebook['ticker'] = 'FB'\n",
    "apple['ticker'] = 'AAPL'\n",
    "amazon['ticker'] = 'AMZN'\n",
    "netflix['ticker'] = 'NFLX'\n",
    "google['ticker'] = 'GOOG'"
   ]
  },
  {
   "cell_type": "code",
   "execution_count": 8,
   "id": "d1e5b5ef-03db-463e-8795-7e6b119efbea",
   "metadata": {},
   "outputs": [
    {
     "data": {
      "text/html": [
       "<div>\n",
       "<style scoped>\n",
       "    .dataframe tbody tr th:only-of-type {\n",
       "        vertical-align: middle;\n",
       "    }\n",
       "\n",
       "    .dataframe tbody tr th {\n",
       "        vertical-align: top;\n",
       "    }\n",
       "\n",
       "    .dataframe thead th {\n",
       "        text-align: right;\n",
       "    }\n",
       "</style>\n",
       "<table border=\"1\" class=\"dataframe\">\n",
       "  <thead>\n",
       "    <tr style=\"text-align: right;\">\n",
       "      <th></th>\n",
       "      <th>date</th>\n",
       "      <th>open</th>\n",
       "      <th>high</th>\n",
       "      <th>low</th>\n",
       "      <th>close</th>\n",
       "      <th>volume</th>\n",
       "      <th>ticker</th>\n",
       "    </tr>\n",
       "  </thead>\n",
       "  <tbody>\n",
       "    <tr>\n",
       "      <th>0</th>\n",
       "      <td>2018-01-02</td>\n",
       "      <td>166.9271</td>\n",
       "      <td>169.0264</td>\n",
       "      <td>166.0442</td>\n",
       "      <td>168.9872</td>\n",
       "      <td>25555934</td>\n",
       "      <td>AAPL</td>\n",
       "    </tr>\n",
       "  </tbody>\n",
       "</table>\n",
       "</div>"
      ],
      "text/plain": [
       "         date      open      high       low     close    volume ticker\n",
       "0  2018-01-02  166.9271  169.0264  166.0442  168.9872  25555934   AAPL"
      ]
     },
     "execution_count": 8,
     "metadata": {},
     "output_type": "execute_result"
    }
   ],
   "source": [
    "# 3. Append them together into a single dataframe.\n",
    "faang = pd.merge(facebook, apple, how = 'outer')\n",
    "faang = pd.merge(faang, amazon, how = 'outer')\n",
    "faang = pd.merge(faang, netflix, how = 'outer')\n",
    "faang = pd.merge(faang, google, how = 'outer')\n",
    "\n",
    "faang.head(1)"
   ]
  },
  {
   "cell_type": "code",
   "execution_count": 9,
   "id": "480cea5b-8338-47be-81b1-edd82127ec76",
   "metadata": {},
   "outputs": [],
   "source": [
    "#4.\tSave the result in a CSV file called faang.csv.\n",
    "faang.to_csv(\"faang.csv\")"
   ]
  },
  {
   "cell_type": "markdown",
   "id": "8d632bf5-8dee-4b5c-8d2a-1de60287e042",
   "metadata": {},
   "source": [
    "## Exercise 2"
   ]
  },
  {
   "cell_type": "markdown",
   "id": "a5399b30-bd72-494c-9a31-cdf803f08a20",
   "metadata": {},
   "source": [
    "•\tWith faang, use type conversion to change the date column into a datetime and the volume column into integers. Then, sort by date and ticker\n",
    "\n",
    "•\tFind the seven rows with the highest value for volume.\n",
    "\n",
    "•\tRight now, the data is somewhere between long and wide format. Use melt() to make it completely long format. Hint: date and ticker are our ID variables (they uniquely identify each row). We need to melt the rest so that we don't have separate columns for open, high, low, close, and volume.\n"
   ]
  },
  {
   "cell_type": "code",
   "execution_count": 10,
   "id": "ca223341-e813-40b8-8e8c-cdacb61a1fad",
   "metadata": {},
   "outputs": [
    {
     "data": {
      "text/plain": [
       "date      datetime64[ns]\n",
       "open             float64\n",
       "high             float64\n",
       "low              float64\n",
       "close            float64\n",
       "volume             int64\n",
       "ticker            object\n",
       "dtype: object"
      ]
     },
     "execution_count": 10,
     "metadata": {},
     "output_type": "execute_result"
    }
   ],
   "source": [
    "# With faang, use type conversion to change the date column into a datetime \n",
    "# and the volume column into integers. Then, sort by date and ticker\n",
    "\n",
    "faang['date'] = pd.to_datetime(faang['date']) #pd.to_datetime is a command to set the data type to a date\n",
    "faang.volume = faang.volume.astype('int64') #astype is also a command to change a datatype\n",
    "\n",
    "faang.dtypes"
   ]
  },
  {
   "cell_type": "code",
   "execution_count": 11,
   "id": "d2288355-5e48-4481-8ab2-fd72c7a106b9",
   "metadata": {},
   "outputs": [
    {
     "data": {
      "text/html": [
       "<div>\n",
       "<style scoped>\n",
       "    .dataframe tbody tr th:only-of-type {\n",
       "        vertical-align: middle;\n",
       "    }\n",
       "\n",
       "    .dataframe tbody tr th {\n",
       "        vertical-align: top;\n",
       "    }\n",
       "\n",
       "    .dataframe thead th {\n",
       "        text-align: right;\n",
       "    }\n",
       "</style>\n",
       "<table border=\"1\" class=\"dataframe\">\n",
       "  <thead>\n",
       "    <tr style=\"text-align: right;\">\n",
       "      <th></th>\n",
       "      <th>date</th>\n",
       "      <th>open</th>\n",
       "      <th>high</th>\n",
       "      <th>low</th>\n",
       "      <th>close</th>\n",
       "      <th>volume</th>\n",
       "      <th>ticker</th>\n",
       "    </tr>\n",
       "  </thead>\n",
       "  <tbody>\n",
       "    <tr>\n",
       "      <th>710</th>\n",
       "      <td>2018-07-26</td>\n",
       "      <td>174.8900</td>\n",
       "      <td>180.1300</td>\n",
       "      <td>173.7500</td>\n",
       "      <td>176.2600</td>\n",
       "      <td>169803668</td>\n",
       "      <td>FB</td>\n",
       "    </tr>\n",
       "    <tr>\n",
       "      <th>265</th>\n",
       "      <td>2018-03-20</td>\n",
       "      <td>167.4700</td>\n",
       "      <td>170.2000</td>\n",
       "      <td>161.9500</td>\n",
       "      <td>168.1500</td>\n",
       "      <td>129851768</td>\n",
       "      <td>FB</td>\n",
       "    </tr>\n",
       "    <tr>\n",
       "      <th>285</th>\n",
       "      <td>2018-03-26</td>\n",
       "      <td>160.8200</td>\n",
       "      <td>161.1000</td>\n",
       "      <td>149.0200</td>\n",
       "      <td>160.0600</td>\n",
       "      <td>126116634</td>\n",
       "      <td>FB</td>\n",
       "    </tr>\n",
       "    <tr>\n",
       "      <th>270</th>\n",
       "      <td>2018-03-21</td>\n",
       "      <td>164.8000</td>\n",
       "      <td>173.4000</td>\n",
       "      <td>163.3000</td>\n",
       "      <td>169.3900</td>\n",
       "      <td>106598834</td>\n",
       "      <td>FB</td>\n",
       "    </tr>\n",
       "    <tr>\n",
       "      <th>911</th>\n",
       "      <td>2018-09-21</td>\n",
       "      <td>219.0727</td>\n",
       "      <td>219.6482</td>\n",
       "      <td>215.6097</td>\n",
       "      <td>215.9768</td>\n",
       "      <td>96246748</td>\n",
       "      <td>AAPL</td>\n",
       "    </tr>\n",
       "    <tr>\n",
       "      <th>1226</th>\n",
       "      <td>2018-12-21</td>\n",
       "      <td>156.1901</td>\n",
       "      <td>157.4845</td>\n",
       "      <td>148.9909</td>\n",
       "      <td>150.0862</td>\n",
       "      <td>95744384</td>\n",
       "      <td>AAPL</td>\n",
       "    </tr>\n",
       "    <tr>\n",
       "      <th>1061</th>\n",
       "      <td>2018-11-02</td>\n",
       "      <td>207.9295</td>\n",
       "      <td>211.9978</td>\n",
       "      <td>203.8414</td>\n",
       "      <td>205.8755</td>\n",
       "      <td>91328654</td>\n",
       "      <td>AAPL</td>\n",
       "    </tr>\n",
       "  </tbody>\n",
       "</table>\n",
       "</div>"
      ],
      "text/plain": [
       "           date      open      high       low     close     volume ticker\n",
       "710  2018-07-26  174.8900  180.1300  173.7500  176.2600  169803668     FB\n",
       "265  2018-03-20  167.4700  170.2000  161.9500  168.1500  129851768     FB\n",
       "285  2018-03-26  160.8200  161.1000  149.0200  160.0600  126116634     FB\n",
       "270  2018-03-21  164.8000  173.4000  163.3000  169.3900  106598834     FB\n",
       "911  2018-09-21  219.0727  219.6482  215.6097  215.9768   96246748   AAPL\n",
       "1226 2018-12-21  156.1901  157.4845  148.9909  150.0862   95744384   AAPL\n",
       "1061 2018-11-02  207.9295  211.9978  203.8414  205.8755   91328654   AAPL"
      ]
     },
     "execution_count": 11,
     "metadata": {},
     "output_type": "execute_result"
    }
   ],
   "source": [
    "#Find the seven rows with the highest value for volume.\n",
    "faang.nlargest(7,'volume')\n",
    "#nlargest is used to find the largest n rows\n",
    "# it takes two entries (number of rows, the column)"
   ]
  },
  {
   "cell_type": "code",
   "execution_count": 12,
   "id": "9aac928e-8cf5-47b6-aebe-969d3539c899",
   "metadata": {},
   "outputs": [
    {
     "data": {
      "text/html": [
       "<div>\n",
       "<style scoped>\n",
       "    .dataframe tbody tr th:only-of-type {\n",
       "        vertical-align: middle;\n",
       "    }\n",
       "\n",
       "    .dataframe tbody tr th {\n",
       "        vertical-align: top;\n",
       "    }\n",
       "\n",
       "    .dataframe thead th {\n",
       "        text-align: right;\n",
       "    }\n",
       "</style>\n",
       "<table border=\"1\" class=\"dataframe\">\n",
       "  <thead>\n",
       "    <tr style=\"text-align: right;\">\n",
       "      <th></th>\n",
       "      <th>date</th>\n",
       "      <th>ticker</th>\n",
       "      <th>variable</th>\n",
       "      <th>value</th>\n",
       "    </tr>\n",
       "  </thead>\n",
       "  <tbody>\n",
       "    <tr>\n",
       "      <th>0</th>\n",
       "      <td>2018-01-02</td>\n",
       "      <td>AAPL</td>\n",
       "      <td>open</td>\n",
       "      <td>166.9271</td>\n",
       "    </tr>\n",
       "    <tr>\n",
       "      <th>1</th>\n",
       "      <td>2018-01-02</td>\n",
       "      <td>FB</td>\n",
       "      <td>open</td>\n",
       "      <td>177.6800</td>\n",
       "    </tr>\n",
       "    <tr>\n",
       "      <th>2</th>\n",
       "      <td>2018-01-02</td>\n",
       "      <td>NFLX</td>\n",
       "      <td>open</td>\n",
       "      <td>196.1000</td>\n",
       "    </tr>\n",
       "    <tr>\n",
       "      <th>3</th>\n",
       "      <td>2018-01-02</td>\n",
       "      <td>GOOG</td>\n",
       "      <td>open</td>\n",
       "      <td>1048.3400</td>\n",
       "    </tr>\n",
       "    <tr>\n",
       "      <th>4</th>\n",
       "      <td>2018-01-02</td>\n",
       "      <td>AMZN</td>\n",
       "      <td>open</td>\n",
       "      <td>1172.0000</td>\n",
       "    </tr>\n",
       "  </tbody>\n",
       "</table>\n",
       "</div>"
      ],
      "text/plain": [
       "        date ticker variable      value\n",
       "0 2018-01-02   AAPL     open   166.9271\n",
       "1 2018-01-02     FB     open   177.6800\n",
       "2 2018-01-02   NFLX     open   196.1000\n",
       "3 2018-01-02   GOOG     open  1048.3400\n",
       "4 2018-01-02   AMZN     open  1172.0000"
      ]
     },
     "execution_count": 12,
     "metadata": {},
     "output_type": "execute_result"
    }
   ],
   "source": [
    "#Right now, the data is somewhere between long and wide format.\n",
    "#Use melt() to make it completely long format.\n",
    "#Hint: date and ticker are our ID variables (they uniquely identify each row). \n",
    "#We need to melt the rest so that we don't have separate columns\n",
    "#for open, high, low, close, and volume.\n",
    "\n",
    "faang = faang.melt(id_vars = ['date', 'ticker'], var_name = 'variable', value_name ='value')\n",
    "#this melts the dataframe so that it won't be a wide and long format\n",
    "faang.head()"
   ]
  },
  {
   "cell_type": "markdown",
   "id": "7a12f1f0-eae0-4ec2-a9bb-92833fbcd06e",
   "metadata": {},
   "source": [
    "## Exercise 3"
   ]
  },
  {
   "cell_type": "markdown",
   "id": "af5e4f04-751d-4129-8ee0-b2b4c7abf2dd",
   "metadata": {},
   "source": [
    "•\tUsing web scraping, search for the list of the hospitals, their address and contact information. Save the list in a new csv file, hospitals.csv.\n",
    "\n",
    "•\tUsing the generated hospitals.csv, convert the csv file into pandas dataframe. Prepare the data using the necessary preprocessing techniques.\n"
   ]
  },
  {
   "cell_type": "code",
   "execution_count": 13,
   "id": "c961b734-ac08-4802-9d0e-ba69a6b1a8e8",
   "metadata": {},
   "outputs": [],
   "source": [
    "#this modules are needed for this exercise\n",
    "from bs4 import BeautifulSoup # this modules is used for web scraping and extract data\n",
    "import requests # used to request from a url\n",
    "import pandas as pd"
   ]
  },
  {
   "cell_type": "code",
   "execution_count": 14,
   "id": "423e2d24-fe2c-4b48-8a64-1b9be9d68589",
   "metadata": {},
   "outputs": [],
   "source": [
    "url = 'https://shop.philcare.com.ph/accredited-hospitals' # the url is set to a variable"
   ]
  },
  {
   "cell_type": "code",
   "execution_count": 15,
   "id": "d55bc02f-6897-4f5d-b3d4-1470b1bbf808",
   "metadata": {},
   "outputs": [],
   "source": [
    "page = requests.get(url) #used the get() command from requests to see if it will get a response\n",
    "#then it is placed on a variable\n",
    "soup = BeautifulSoup(page.text, 'html') \n",
    "#used BeautifulSoup to take the page, and 'html' to see it in html form"
   ]
  },
  {
   "cell_type": "code",
   "execution_count": 16,
   "id": "2fc0fb66-b11d-4aab-b368-cacaea10e2e9",
   "metadata": {},
   "outputs": [],
   "source": [
    "#soup.find('table')\n",
    "#this reads the whole html and outputs the \"table\" class\n",
    "#it is commented to prevent a long page of the html code"
   ]
  },
  {
   "cell_type": "code",
   "execution_count": 17,
   "id": "f4faba3d-978a-4de9-acbf-7368b9e676bb",
   "metadata": {},
   "outputs": [],
   "source": [
    "table = soup.find('table') #the parts of the html with the table class is stored "
   ]
  },
  {
   "cell_type": "code",
   "execution_count": 18,
   "id": "386b18bb-16fd-4b2e-8077-086d146dc525",
   "metadata": {},
   "outputs": [],
   "source": [
    "titles = table.find_all('th')#the 'th' class in the table is stored in another variable"
   ]
  },
  {
   "cell_type": "code",
   "execution_count": 19,
   "id": "ab69a345-00fc-4180-9362-d0ac1b163918",
   "metadata": {},
   "outputs": [
    {
     "data": {
      "text/plain": [
       "[<th>Provider Name</th>,\n",
       " <th>Complete Address</th>,\n",
       " <th>City</th>,\n",
       " <th>Province</th>,\n",
       " <th>Region</th>,\n",
       " <th>Area</th>,\n",
       " <th>Contact No.</th>]"
      ]
     },
     "execution_count": 19,
     "metadata": {},
     "output_type": "execute_result"
    }
   ],
   "source": [
    "titles\n",
    "#the result below is the th class in the table class\n",
    "#these are the column names"
   ]
  },
  {
   "cell_type": "code",
   "execution_count": 20,
   "id": "6490222a-c5ee-454b-80c1-d3e17cf59d86",
   "metadata": {},
   "outputs": [
    {
     "name": "stdout",
     "output_type": "stream",
     "text": [
      "['Provider Name', 'Complete Address', 'City', 'Province', 'Region', 'Area', 'Contact No.']\n"
     ]
    }
   ],
   "source": [
    "table_titles = [title.text for title in titles]\n",
    "print(table_titles)\n",
    "#the th class placed into a list"
   ]
  },
  {
   "cell_type": "code",
   "execution_count": 21,
   "id": "4548f645-3e3e-47db-aa3b-aa3b521d642d",
   "metadata": {},
   "outputs": [
    {
     "data": {
      "text/html": [
       "<div>\n",
       "<style scoped>\n",
       "    .dataframe tbody tr th:only-of-type {\n",
       "        vertical-align: middle;\n",
       "    }\n",
       "\n",
       "    .dataframe tbody tr th {\n",
       "        vertical-align: top;\n",
       "    }\n",
       "\n",
       "    .dataframe thead th {\n",
       "        text-align: right;\n",
       "    }\n",
       "</style>\n",
       "<table border=\"1\" class=\"dataframe\">\n",
       "  <thead>\n",
       "    <tr style=\"text-align: right;\">\n",
       "      <th></th>\n",
       "      <th>Provider Name</th>\n",
       "      <th>Complete Address</th>\n",
       "      <th>City</th>\n",
       "      <th>Province</th>\n",
       "      <th>Region</th>\n",
       "      <th>Area</th>\n",
       "      <th>Contact No.</th>\n",
       "    </tr>\n",
       "  </thead>\n",
       "  <tbody>\n",
       "  </tbody>\n",
       "</table>\n",
       "</div>"
      ],
      "text/plain": [
       "Empty DataFrame\n",
       "Columns: [Provider Name, Complete Address, City, Province, Region, Area, Contact No.]\n",
       "Index: []"
      ]
     },
     "execution_count": 21,
     "metadata": {},
     "output_type": "execute_result"
    }
   ],
   "source": [
    "df = pd.DataFrame(columns = table_titles)\n",
    "\n",
    "df\n",
    "#the th class placed on a list is converted to dataframe columns"
   ]
  },
  {
   "cell_type": "code",
   "execution_count": 22,
   "id": "64d9b138-3890-4a2d-81b5-d4f87ac92f08",
   "metadata": {},
   "outputs": [],
   "source": [
    "column_data = table.find_all('tr')\n",
    "#from the table class the tr class is taken\n",
    "#in the website, the tr class are the rows"
   ]
  },
  {
   "cell_type": "code",
   "execution_count": 23,
   "id": "cc1469d8-01b9-4cd0-8ef4-84e2af9a5bc7",
   "metadata": {},
   "outputs": [],
   "source": [
    "for row in column_data[1:]: #[1:] is used to take the second one since the first one is blank\n",
    "    row_data = row.find_all('td')# all the tr class contain a td class which is the data of each row\n",
    "    row_data = [data.text for data in row_data] \n",
    "\n",
    "    length = len(df)    \n",
    "    df.loc[length] = row_data"
   ]
  },
  {
   "cell_type": "code",
   "execution_count": 24,
   "id": "c2ac4f4b-676a-43e9-8483-f5318daaf947",
   "metadata": {},
   "outputs": [
    {
     "data": {
      "text/html": [
       "<div>\n",
       "<style scoped>\n",
       "    .dataframe tbody tr th:only-of-type {\n",
       "        vertical-align: middle;\n",
       "    }\n",
       "\n",
       "    .dataframe tbody tr th {\n",
       "        vertical-align: top;\n",
       "    }\n",
       "\n",
       "    .dataframe thead th {\n",
       "        text-align: right;\n",
       "    }\n",
       "</style>\n",
       "<table border=\"1\" class=\"dataframe\">\n",
       "  <thead>\n",
       "    <tr style=\"text-align: right;\">\n",
       "      <th></th>\n",
       "      <th>Provider Name</th>\n",
       "      <th>Complete Address</th>\n",
       "      <th>City</th>\n",
       "      <th>Province</th>\n",
       "      <th>Region</th>\n",
       "      <th>Area</th>\n",
       "      <th>Contact No.</th>\n",
       "    </tr>\n",
       "  </thead>\n",
       "  <tbody>\n",
       "    <tr>\n",
       "      <th>0</th>\n",
       "      <td>CLINICA LAGUNA MULTISPECIALTY CENTER AND DIAGN...</td>\n",
       "      <td>UNIT 207 PARIAN COMMERCE CENTER PARIAN CALAMBA...</td>\n",
       "      <td>CALAMBA CITY</td>\n",
       "      <td>LAGUNA</td>\n",
       "      <td>Region IV-A (CALABARZON)</td>\n",
       "      <td>SOUTH LUZON</td>\n",
       "      <td></td>\n",
       "    </tr>\n",
       "    <tr>\n",
       "      <th>1</th>\n",
       "      <td>ABELLA MIDWAY HOSPITAL</td>\n",
       "      <td>125 P. VALERO ST. BRGY. POBLACION VALENCIA CIT...</td>\n",
       "      <td>VALENCIA CITY</td>\n",
       "      <td>BUKIDNON</td>\n",
       "      <td>Region X</td>\n",
       "      <td>MINDANAO</td>\n",
       "      <td>(088) 828-3533</td>\n",
       "    </tr>\n",
       "    <tr>\n",
       "      <th>2</th>\n",
       "      <td>ABESAMIS EYE CARE AND CONTACT LENS CENTER (MAK...</td>\n",
       "      <td>SUITE 904 MEDICAL PLAZA MAKATI, DELA ROSA CORN...</td>\n",
       "      <td>MAKATI CITY</td>\n",
       "      <td>METRO MANILA</td>\n",
       "      <td>NCR</td>\n",
       "      <td>METRO MANILA</td>\n",
       "      <td>(02) 8556-0816</td>\n",
       "    </tr>\n",
       "    <tr>\n",
       "      <th>3</th>\n",
       "      <td>ACCURATE MEDICAL DIAGNOSTICS (MABALACAT BRANCH)</td>\n",
       "      <td>LOT 15 BLOCK 10 MC ARTHUR HI-WAY, MABIGA BRGY....</td>\n",
       "      <td>MABALACAT</td>\n",
       "      <td>PAMPANGA</td>\n",
       "      <td>Region III</td>\n",
       "      <td>NORTH LUZON</td>\n",
       "      <td>(045) 331-8706/(045) 893-1550</td>\n",
       "    </tr>\n",
       "    <tr>\n",
       "      <th>4</th>\n",
       "      <td>ACCURATE MEDICAL DIAGNOSTICS (ANGELES CITY BRA...</td>\n",
       "      <td>2442 STO. ENTIERRO ST. BRGY. STO. CRISTO ANGEL...</td>\n",
       "      <td>ANGELES CITY</td>\n",
       "      <td>PAMPANGA</td>\n",
       "      <td>Region III</td>\n",
       "      <td>NORTH LUZON</td>\n",
       "      <td>(045) 626-1823</td>\n",
       "    </tr>\n",
       "  </tbody>\n",
       "</table>\n",
       "</div>"
      ],
      "text/plain": [
       "                                       Provider Name  \\\n",
       "0  CLINICA LAGUNA MULTISPECIALTY CENTER AND DIAGN...   \n",
       "1                             ABELLA MIDWAY HOSPITAL   \n",
       "2  ABESAMIS EYE CARE AND CONTACT LENS CENTER (MAK...   \n",
       "3    ACCURATE MEDICAL DIAGNOSTICS (MABALACAT BRANCH)   \n",
       "4  ACCURATE MEDICAL DIAGNOSTICS (ANGELES CITY BRA...   \n",
       "\n",
       "                                    Complete Address           City  \\\n",
       "0  UNIT 207 PARIAN COMMERCE CENTER PARIAN CALAMBA...   CALAMBA CITY   \n",
       "1  125 P. VALERO ST. BRGY. POBLACION VALENCIA CIT...  VALENCIA CITY   \n",
       "2  SUITE 904 MEDICAL PLAZA MAKATI, DELA ROSA CORN...    MAKATI CITY   \n",
       "3  LOT 15 BLOCK 10 MC ARTHUR HI-WAY, MABIGA BRGY....      MABALACAT   \n",
       "4  2442 STO. ENTIERRO ST. BRGY. STO. CRISTO ANGEL...   ANGELES CITY   \n",
       "\n",
       "       Province                    Region          Area  \\\n",
       "0        LAGUNA  Region IV-A (CALABARZON)   SOUTH LUZON   \n",
       "1      BUKIDNON      Region X                  MINDANAO   \n",
       "2  METRO MANILA                       NCR  METRO MANILA   \n",
       "3      PAMPANGA                Region III   NORTH LUZON   \n",
       "4      PAMPANGA                Region III   NORTH LUZON   \n",
       "\n",
       "                     Contact No.  \n",
       "0                                 \n",
       "1                 (088) 828-3533  \n",
       "2                 (02) 8556-0816  \n",
       "3  (045) 331-8706/(045) 893-1550  \n",
       "4                 (045) 626-1823  "
      ]
     },
     "execution_count": 24,
     "metadata": {},
     "output_type": "execute_result"
    }
   ],
   "source": [
    "df.head() #output of the dataframe"
   ]
  },
  {
   "cell_type": "code",
   "execution_count": 25,
   "id": "e099b413-922c-4c66-89be-aefed09f4b4a",
   "metadata": {},
   "outputs": [],
   "source": [
    "df.to_csv('Hospitals.csv') #code to convert the dataframe into a csv file"
   ]
  },
  {
   "cell_type": "markdown",
   "id": "727b149d-7a23-43dd-841d-d2987ba91f67",
   "metadata": {},
   "source": [
    "---"
   ]
  },
  {
   "cell_type": "markdown",
   "id": "45ca4a1d-40cf-4448-b629-848adb335213",
   "metadata": {},
   "source": [
    "## 7.2\tConclusion:"
   ]
  },
  {
   "cell_type": "markdown",
   "id": "f792c5ab-03a1-4f85-b952-5442d78100fb",
   "metadata": {},
   "source": [
    "The first and second exercise was easy, since there are instructions to follow, it was instructions to be followed, reading the csv, merging many csv/s into one, changing datatypes, making new columns, and finding specific rows, in the third one it was very hard, because I need to find a website that containthe data I need, I was lucky enough to find one that is in table form, I have no knowledge on what to do and how to properly take the data from an html, and how to list what I need, there was no instruction on gathering data, and some websites are not available for data scraping, I want to learn more about this."
   ]
  },
  {
   "cell_type": "code",
   "execution_count": null,
   "id": "e44fefb9-f2c3-4797-845c-94753953f791",
   "metadata": {},
   "outputs": [],
   "source": []
  }
 ],
 "metadata": {
  "kernelspec": {
   "display_name": "Python 3 (ipykernel)",
   "language": "python",
   "name": "python3"
  },
  "language_info": {
   "codemirror_mode": {
    "name": "ipython",
    "version": 3
   },
   "file_extension": ".py",
   "mimetype": "text/x-python",
   "name": "python",
   "nbconvert_exporter": "python",
   "pygments_lexer": "ipython3",
   "version": "3.12.9"
  }
 },
 "nbformat": 4,
 "nbformat_minor": 5
}
