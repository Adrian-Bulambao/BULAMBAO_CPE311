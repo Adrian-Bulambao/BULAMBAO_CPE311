{
  "cells": [
    {
      "cell_type": "markdown",
      "metadata": {
        "id": "view-in-github",
        "colab_type": "text"
      },
      "source": [
        "<a href=\"https://colab.research.google.com/github/Adrian-Bulambao/BULAMBAO_CPE311/blob/main/Hands_on_Activity_2_1_Dynamic_Programming_1_Bulambao.ipynb\" target=\"_parent\"><img src=\"https://colab.research.google.com/assets/colab-badge.svg\" alt=\"Open In Colab\"/></a>"
      ]
    },
    {
      "cell_type": "markdown",
      "id": "f1c6ec95",
      "metadata": {
        "id": "f1c6ec95"
      },
      "source": [
        "# Hands-on Activity 2.1 : Dynamic Programming"
      ]
    },
    {
      "cell_type": "markdown",
      "id": "56dacba1",
      "metadata": {
        "id": "56dacba1"
      },
      "source": [
        "#### Objective(s):\n",
        "\n",
        "This activity aims to demonstrate how to use dynamic programming to solve problems."
      ]
    },
    {
      "cell_type": "markdown",
      "id": "e51f84e3",
      "metadata": {
        "id": "e51f84e3"
      },
      "source": [
        "#### Intended Learning Outcomes (ILOs):\n",
        "* Differentiate recursion method from dynamic programming to solve problems.\n",
        "* Demonstrate how to  solve real-world problems using dynamic programming\n"
      ]
    },
    {
      "cell_type": "markdown",
      "id": "39047b1a",
      "metadata": {
        "id": "39047b1a"
      },
      "source": [
        "#### Resources:\n",
        "* Jupyter Notebook\n"
      ]
    },
    {
      "cell_type": "markdown",
      "id": "cb5360c0",
      "metadata": {
        "id": "cb5360c0"
      },
      "source": [
        "#### Procedures:"
      ]
    },
    {
      "cell_type": "markdown",
      "id": "206a914c",
      "metadata": {
        "id": "206a914c"
      },
      "source": [
        "1. Create a code that demonstrate how to use recursion method to solve problem"
      ]
    },
    {
      "cell_type": "markdown",
      "id": "5744a876",
      "metadata": {
        "id": "5744a876"
      },
      "source": [
        "2. Create a program codes that demonstrate how to use dynamic programming to solve the same problem"
      ]
    },
    {
      "cell_type": "markdown",
      "id": "8e3f6572",
      "metadata": {
        "id": "8e3f6572"
      },
      "source": [
        "##### Question:\n",
        "Explain the difference of using the recursion from dynamic programming using the given sample codes to solve the same problem"
      ]
    },
    {
      "cell_type": "markdown",
      "id": "b5a71b53",
      "metadata": {
        "id": "b5a71b53"
      },
      "source": [
        "Type your answer here:\n",
        "\n",
        "Recursion is a simple method of solving the problem. It divides the problem into smaller sub-problems and keeps on calling itself to get the optimal solution. Yet, recursion is inefficient since it can redo the same calculations numerous times. Dynamic programming is a better method. Rather than working through the same problem many times, it does it just once and stores the results in a table which can be used again. This is far more efficient than using recursion.\n",
        "\n",
        "\n"
      ]
    },
    {
      "cell_type": "markdown",
      "id": "60074702",
      "metadata": {
        "id": "60074702"
      },
      "source": [
        "3. Create a sample program codes to simulate bottom-up dynamic programming"
      ]
    },
    {
      "cell_type": "markdown",
      "id": "e629eb89",
      "metadata": {
        "id": "e629eb89"
      },
      "source": [
        "4. Create a sample program codes that simulate tops-down dynamic programming"
      ]
    },
    {
      "cell_type": "markdown",
      "id": "c2e2434c",
      "metadata": {
        "id": "c2e2434c"
      },
      "source": [
        "#### Question:\n",
        " Explain the difference between bottom-up from top-down dynamic programming using the given sample codes"
      ]
    },
    {
      "cell_type": "markdown",
      "id": "ac97e063",
      "metadata": {
        "id": "ac97e063"
      },
      "source": [
        "Type your answer here:\n",
        "\n",
        "The bottom-up approach starts with the simplest subproblems and works its way up to the ultimate answer.  After that, a table is created and filled gradually.  The solution to a subproblem is stored in each table entry and is subsequently utilized to calculate more complex issues.  This approach is effective in terms of execution speed and avoids recursion.  The top-down approach begins with the primary issue and, if necessary, divides it into smaller subproblems.  The computed results undergo another recursion after being saved in the table.  Although both approaches are more efficient than simple recursion, bottom-up approaches are frequently chosen for large problems because of their superior memory management.\n",
        "\n",
        "\n",
        "\n",
        "\n"
      ]
    },
    {
      "cell_type": "markdown",
      "id": "f7a5bfbd",
      "metadata": {
        "id": "f7a5bfbd"
      },
      "source": [
        "0/1 Knapsack Problem\n",
        "\n",
        "* Analyze three different techniques to solve knapsacks problem\n",
        "1. Recursion\n",
        "2. Dynamic Programming\n",
        "3. Memoization"
      ]
    },
    {
      "cell_type": "code",
      "source": [
        "#sample code for knapsack problem using recursion\n",
        "def rec_knapSack(w, wt, val, n):\n",
        "\n",
        "  #base case\n",
        "  #defined as nth item is empty;\n",
        "  #or the capacity w is 0\n",
        "  if n == 0 or w == 0:\n",
        "    return 0\n",
        "\n",
        "  #if weight of the nth item is more than\n",
        "  #the capacity W, then this item cannot be included\n",
        "  #as part of the optimal solution\n",
        "  if(wt[n-1] > w):\n",
        "    return rec_knapSack(w, wt, val, n-1)\n",
        "\n",
        "  #return the maximum of the two cases:\n",
        "  # (1) include the nth item\n",
        "  # (2) don't include the nth item\n",
        "  else:\n",
        "    return max(\n",
        "        val[n-1] + rec_knapSack(\n",
        "            w-wt[n-1], wt, val, n-1),\n",
        "            rec_knapSack(w, wt, val, n-1)\n",
        "    )"
      ],
      "metadata": {
        "id": "15SVHF85_1Ji"
      },
      "id": "15SVHF85_1Ji",
      "execution_count": null,
      "outputs": []
    },
    {
      "cell_type": "code",
      "source": [
        "#To test:\n",
        "val = [60, 100, 120] #values for the items\n",
        "wt = [10, 20, 30] #weight of the items\n",
        "w = 50 #knapsack weight capacity\n",
        "n = len(val) #number of items\n",
        "\n",
        "rec_knapSack(w, wt, val, n)"
      ],
      "metadata": {
        "colab": {
          "base_uri": "https://localhost:8080/"
        },
        "id": "b1D3YRJ7cMqU",
        "outputId": "788d87c8-0d84-4dd6-dfcf-1206fa495812"
      },
      "id": "b1D3YRJ7cMqU",
      "execution_count": null,
      "outputs": [
        {
          "output_type": "execute_result",
          "data": {
            "text/plain": [
              "220"
            ]
          },
          "metadata": {},
          "execution_count": 27
        }
      ]
    },
    {
      "cell_type": "code",
      "source": [
        "#Dynamic Programming for the Knapsack Problem\n",
        "def DP_knapSack(w, wt, val, n):\n",
        "  #create the table\n",
        "  table = [[0 for x in range(w+1)] for x in range (n+1)]\n",
        "\n",
        "  #populate the table in a bottom-up approach\n",
        "  for i in range(n+1):\n",
        "    for w in range(w+1):\n",
        "      if i == 0 or w == 0:\n",
        "        table[i][w] = 0\n",
        "      elif wt[i-1] <= w:\n",
        "        table[i][w] = max(val[i-1] + table[i-1][w-wt[i-1]],\n",
        "                          table[i-1][w])\n",
        "  return table[n][w]"
      ],
      "metadata": {
        "id": "A8OU1sUJ_1ES"
      },
      "id": "A8OU1sUJ_1ES",
      "execution_count": null,
      "outputs": []
    },
    {
      "cell_type": "code",
      "source": [
        "#To test:\n",
        "val = [60, 100, 120]\n",
        "wt = [10, 20, 30]\n",
        "w = 50\n",
        "n = len(val)\n",
        "\n",
        "DP_knapSack(w, wt, val, n)"
      ],
      "metadata": {
        "colab": {
          "base_uri": "https://localhost:8080/"
        },
        "id": "GUNeEPHrd-N1",
        "outputId": "4829e602-248b-48f8-cbd3-e75c4d87d3b6"
      },
      "id": "GUNeEPHrd-N1",
      "execution_count": null,
      "outputs": [
        {
          "output_type": "execute_result",
          "data": {
            "text/plain": [
              "220"
            ]
          },
          "metadata": {},
          "execution_count": 29
        }
      ]
    },
    {
      "cell_type": "code",
      "source": [
        "#Sample for top-down DP approach (memoization)\n",
        "#initialize the list of items\n",
        "val = [60, 100, 120]\n",
        "wt = [10, 20, 30]\n",
        "w = 50\n",
        "n = len(val)\n",
        "\n",
        "#initialize the container for the values that have to be stored\n",
        "#values are initialized to -1\n",
        "calc =[[-1 for i in range(w+1)] for j in range(n+1)]\n",
        "\n",
        "\n",
        "def mem_knapSack(wt, val, w, n):\n",
        "  #base conditions\n",
        "  if n == 0 or w == 0:\n",
        "    return 0\n",
        "  if calc[n][w] != -1:\n",
        "    return calc[n][w]\n",
        "\n",
        "  #compute for the other cases\n",
        "  if wt[n-1] <= w:\n",
        "    calc[n][w] = max(val[n-1] + mem_knapSack(wt, val, w-wt[n-1], n-1),\n",
        "                     mem_knapSack(wt, val, w, n-1))\n",
        "    return calc[n][w]\n",
        "  elif wt[n-1] > w:\n",
        "    calc[n][w] = mem_knapSack(wt, val, w, n-1)\n",
        "    return calc[n][w]\n",
        "\n",
        "mem_knapSack(wt, val, w, n)"
      ],
      "metadata": {
        "id": "VgwTX-XT_0_h",
        "colab": {
          "base_uri": "https://localhost:8080/"
        },
        "outputId": "6f3c2cc6-01fc-433a-ae1e-cbb99976c028"
      },
      "id": "VgwTX-XT_0_h",
      "execution_count": null,
      "outputs": [
        {
          "output_type": "execute_result",
          "data": {
            "text/plain": [
              "220"
            ]
          },
          "metadata": {},
          "execution_count": 31
        }
      ]
    },
    {
      "cell_type": "markdown",
      "source": [
        "**Code Analysis**\n",
        "\n",
        "Type your answer here.\n",
        "\n",
        "\n",
        "Recursion solves the problem by calling itself repeatedly, it is easier to understand but it is slow and may cause redundant calculations, and it is very inefficient because it uses high memory usage. Memoization is better because while it uses recursion, it stores computed results to a  table and avoids redundant calculations, and uses its memory to store the results. While tabulation computes the results from the smallest, due to this it avoids recursion and makes better use of memory, but it is harder to understand than the other two."
      ],
      "metadata": {
        "id": "-UXSSblDcF8T"
      },
      "id": "-UXSSblDcF8T"
    },
    {
      "cell_type": "markdown",
      "source": [
        "## Seatwork 2.1"
      ],
      "metadata": {
        "id": "IGsdUGCUcTFd"
      },
      "id": "IGsdUGCUcTFd"
    },
    {
      "cell_type": "markdown",
      "id": "0462053d",
      "metadata": {
        "id": "0462053d"
      },
      "source": [
        "Task 1: Modify the three techniques to include additional criterion in the knapsack problems"
      ]
    },
    {
      "cell_type": "code",
      "execution_count": 7,
      "id": "ed2f6186",
      "metadata": {
        "id": "ed2f6186",
        "colab": {
          "base_uri": "https://localhost:8080/",
          "height": 0
        },
        "outputId": "9f6e84f2-657e-486d-d01f-a99111a2a0e5"
      },
      "outputs": [
        {
          "output_type": "stream",
          "name": "stdout",
          "text": [
            "Recursion total:  280\n",
            "DP total:  280\n",
            "Memoization total:  280\n"
          ]
        }
      ],
      "source": [
        "#type your code here\n",
        "#Recursion\n",
        "#sample code for knapsack problem using recursion\n",
        "def rec_knapSack(w, wt, val, n, c):\n",
        "\n",
        "  #base case\n",
        "  #defined as nth item is empty;\n",
        "  #or the capacity w is 0\n",
        "  #if capacity to carry is 0 return 0\n",
        "  if n == 0 or w == 0 or c ==0:\n",
        "    return 0\n",
        "\n",
        "  #if weight of the nth item is more than\n",
        "  #the capacity W, then this item cannot be included\n",
        "  #as part of the optimal solution\n",
        "  if(wt[n-1] > w):\n",
        "    return rec_knapSack(w, wt, val, n-1,c)\n",
        "\n",
        "  #return the maximum of the two cases:\n",
        "  # (1) include the nth item\n",
        "  # (2) don't include the nth item\n",
        "  if c > 0:\n",
        "    include = val[n-1] + rec_knapSack(w-wt[n-1], wt, val, n-1,c-1)\n",
        "  exclude = rec_knapSack(w, wt, val, n-1,c)\n",
        "\n",
        "  return max(include,exclude)\n",
        "#To test:\n",
        "val = [60, 100, 120] #values for the items\n",
        "wt = [10, 20, 30] #weight of the items\n",
        "w = 100 #knapsack weight capacity\n",
        "n = len(val) #number of items\n",
        "c = 3\n",
        "\n",
        "print(\"Recursion total: \",rec_knapSack(w, wt, val, n, c))\n",
        "\n",
        "\n",
        "\n",
        "#Dynamic\n",
        "\n",
        "def DP_knapSack(w, wt, val, n, c):\n",
        "    #create the table\n",
        "    table = [[[0 for x in range(c+1)] for x in range(w+1)] for x in range(n+1)]\n",
        "\n",
        "    #populate the table in a bottom-up approach\n",
        "    for i in range(1, n+1):\n",
        "        for j in range(1, w+1):\n",
        "            for k in range(1, c+1):\n",
        "                if wt[i-1] <= j:\n",
        "                    table[i][j][k] = max(val[i-1] + table[i-1][j-wt[i-1]][k-1], table[i-1][j][k])\n",
        "                else:\n",
        "                    table[i][j][k] = table[i-1][j][k]\n",
        "\n",
        "    return table[n][w][c]\n",
        "#To test:\n",
        "val = [60, 100, 120]\n",
        "wt = [10, 20, 30]\n",
        "w = 100\n",
        "n = len(val)\n",
        "c = 3\n",
        "\n",
        "print(\"DP total: \",DP_knapSack(w, wt, val, n,c))\n",
        "\n",
        "\n",
        "#Memoization\n",
        "#initialize the list of items\n",
        "val = [60, 100, 120]\n",
        "wt = [10, 20, 30]\n",
        "w = 100\n",
        "n = len(val)\n",
        "c = 3\n",
        "\n",
        "#initialize the container for the values that have to be stored\n",
        "#values are initialized to -1\n",
        "calc =[[[-1 for i in range(w+1)] for j in range(n+1)] for x in range(c+1)]\n",
        "\n",
        "def mem_knapSack(wt, val, w, n, c):\n",
        "  #base conditions\n",
        "  if n == 0 or w == 0 or c == 0:\n",
        "    return 0\n",
        "  if calc[c][n][w] != -1:\n",
        "    return calc[c][n][w]\n",
        "\n",
        "  #compute for the other cases\n",
        "  a = val[n-1] + mem_knapSack(wt, val, w-wt[n-1], n-1,c-1)\n",
        "  b = mem_knapSack(wt, val, w, n-1,c)\n",
        "  if wt[n-1] <= w:\n",
        "    calc[c][n][w] = max(a,b)\n",
        "    return calc[c][n][w]\n",
        "  elif wt[n-1] > w:\n",
        "    calc[n][w][c] = mem_knapSack(wt, val, w, n-1,c)\n",
        "    return calc[n][w][c]\n",
        "\n",
        "print(\"Memoization total: \",mem_knapSack(wt, val, w, n, c))"
      ]
    },
    {
      "cell_type": "markdown",
      "id": "d97e864e",
      "metadata": {
        "id": "d97e864e"
      },
      "source": [
        "Fibonacci Numbers"
      ]
    },
    {
      "cell_type": "code",
      "source": [],
      "metadata": {
        "id": "HoqkUdvj_2ZZ"
      },
      "id": "HoqkUdvj_2ZZ",
      "execution_count": null,
      "outputs": []
    },
    {
      "cell_type": "markdown",
      "id": "f44e88aa",
      "metadata": {
        "id": "f44e88aa"
      },
      "source": [
        "Task 2: Create a sample program that find the nth number of Fibonacci Series using Dynamic Programming"
      ]
    },
    {
      "cell_type": "code",
      "execution_count": 26,
      "id": "745871be",
      "metadata": {
        "id": "745871be",
        "colab": {
          "base_uri": "https://localhost:8080/",
          "height": 0
        },
        "outputId": "4c071d9c-cf14-4206-a36e-b75cafee3d14"
      },
      "outputs": [
        {
          "output_type": "stream",
          "name": "stdout",
          "text": [
            "55\n"
          ]
        }
      ],
      "source": [
        "#type your code here\n",
        "# Function to implement Fibonacci Series\n",
        "def fibTab(n):\n",
        "    tb = [0,1]\n",
        "    for i in range(1, n+1):\n",
        "      tb.append(tb[i-1] + tb[i])\n",
        "    return tb[n]\n",
        "\n",
        "print(fibTab(10))"
      ]
    },
    {
      "cell_type": "markdown",
      "id": "070ddd75",
      "metadata": {
        "id": "070ddd75"
      },
      "source": [
        "## Supplementary Problem (HOA 2.1 Submission):\n",
        "* Choose a real-life problem\n",
        "* Use recursion and dynamic programming to solve the problem"
      ]
    },
    {
      "cell_type": "code",
      "execution_count": 1,
      "id": "86eef507",
      "metadata": {
        "id": "86eef507",
        "colab": {
          "base_uri": "https://localhost:8080/",
          "height": 0
        },
        "outputId": "3a874cdb-cc2d-4b75-d857-9011f0c33442"
      },
      "outputs": [
        {
          "output_type": "stream",
          "name": "stdout",
          "text": [
            "Total value of items got: 45\n"
          ]
        }
      ],
      "source": [
        "#type your code here for recursion programming solution\n",
        "#code for knapsack problem using recursion solving maximing the value of items to be bought, by buying items needed with a limited budget and limit on how many you can buy\n",
        "def rec_knapSack_problem(budget, costs, usefullness, item_available, capacity_limit):\n",
        "\n",
        "  #base case\n",
        "  #defined as nth item is empty;\n",
        "  #or the capacity w is 0\n",
        "  #if capacity to carry is 0 return 0\n",
        "  if item_available == 0 or budget == 0 or capacity_limit ==0:\n",
        "    return 0\n",
        "\n",
        "  #if cost of the item available is more than\n",
        "  #the budget, then this item cannot be included in the list to buy\n",
        "  if(costs[item_available-1] > budget):\n",
        "    return rec_knapSack_problem(budget, costs, usefullness, item_available-1, capacity_limit)\n",
        "\n",
        "  #return the maximum of the two cases:\n",
        "  # (1) include the item available if capacity is not yet reached\n",
        "  # (2) don't include the item available if capacity is reached\n",
        "  if capacity_limit > 0:\n",
        "    include = usefullness[item_available-1] + rec_knapSack_problem(budget-costs[item_available-1], costs, usefullness, item_available-1,capacity_limit-1)\n",
        "  exclude = rec_knapSack_problem(budget, costs, usefullness, item_available-1, capacity_limit)\n",
        "\n",
        "  return max(include,exclude)\n",
        "#To test:\n",
        "val = [1, 10, 13, 21]\n",
        "wt = [180, 220, 250, 350]\n",
        "w = 1000\n",
        "n = len(val)\n",
        "c = 4\n",
        "\n",
        "total = rec_knapSack_problem(w, wt, val, n,c)\n",
        "print(\"Total value of items got:\", total)\n"
      ]
    },
    {
      "cell_type": "code",
      "execution_count": 2,
      "id": "73b071b6",
      "metadata": {
        "id": "73b071b6",
        "colab": {
          "base_uri": "https://localhost:8080/",
          "height": 0
        },
        "outputId": "e018af9e-4457-4c43-9ba6-a9db67b2831e"
      },
      "outputs": [
        {
          "output_type": "stream",
          "name": "stdout",
          "text": [
            "Total value of items got: 45\n"
          ]
        }
      ],
      "source": [
        "#type your code here for dynamic programming solution\n",
        "# dynamic programming solution code, maximing the value of items to be bought, by buying items needed with a limited budget and limit on how many you can\n",
        "def DP_knapSack_problem(w, wt, val, n, c):\n",
        "    #create the table\n",
        "    table = [[[0 for x in range(c+1)] for x in range(w+1)] for x in range(n+1)]\n",
        "\n",
        "    #populate the table in a bottom-up approach\n",
        "    for i in range(1, n+1):\n",
        "        for j in range(1, w+1):\n",
        "            for k in range(1, c+1):\n",
        "                if wt[i-1] <= j:\n",
        "                    table[i][j][k] = max(val[i-1] + table[i-1][j-wt[i-1]][k-1], table[i-1][j][k])\n",
        "                else:\n",
        "                    table[i][j][k] = table[i-1][j][k]\n",
        "\n",
        "    return table[n][w][c]\n",
        "#To test:\n",
        "val = [1, 10, 13, 21]\n",
        "wt = [180, 220, 250, 350]\n",
        "w = 1000\n",
        "n = len(val)\n",
        "c = 4\n",
        "\n",
        "bought = DP_knapSack_problem(w, wt, val, n,c)\n",
        "print(\"Total value of items got:\", bought)"
      ]
    },
    {
      "cell_type": "markdown",
      "id": "bb0ed6a9",
      "metadata": {
        "id": "bb0ed6a9"
      },
      "source": [
        "#### Conclusion"
      ]
    },
    {
      "cell_type": "code",
      "execution_count": 27,
      "id": "9627d18c",
      "metadata": {
        "id": "9627d18c",
        "colab": {
          "base_uri": "https://localhost:8080/",
          "height": 0
        },
        "outputId": "8b18cad9-48c0-4d8b-a960-adb32291efb9"
      },
      "outputs": [
        {
          "output_type": "stream",
          "name": "stdout",
          "text": [
            "\n",
            "After doing this activity, I found out that there are many ways to solve the knapsacks problem, \n",
            "it is much easier to understand but uses a lot of memory and very inefficient as it is\n",
            "using recursion to check for possible combinations from the item selection,\n",
            "On the dynamic programming it stores the result in a table using recursion,\n",
            "on the memoization,the approach is similar to recursion,\n",
            "but it avoids redundant calculations by storing the results\n",
            "While in the tabulation, it solves the smallest subproblems first and work it's way up, \n",
            "it is much more effiecient but is much harder to understand\n",
            "\n"
          ]
        }
      ],
      "source": [
        "#type your answer here\n",
        "\n",
        "print(\"\"\"\n",
        "After doing this activity, I found out that there are many ways to solve the knapsacks problem,\n",
        "it is much easier to understand but uses a lot of memory and very inefficient as it is\n",
        "using recursion to check for possible combinations from the item selection,\n",
        "On the dynamic programming it stores the result in a table using recursion,\n",
        "on the memoization,the approach is similar to recursion,\n",
        "but it avoids redundant calculations by storing the results\n",
        "While in the tabulation, it solves the smallest subproblems first and work it's way up,\n",
        "it is much more effiecient but is much harder to understand\n",
        "\"\"\")"
      ]
    }
  ],
  "metadata": {
    "kernelspec": {
      "display_name": "Python 3",
      "language": "python",
      "name": "python3"
    },
    "language_info": {
      "codemirror_mode": {
        "name": "ipython",
        "version": 3
      },
      "file_extension": ".py",
      "mimetype": "text/x-python",
      "name": "python",
      "nbconvert_exporter": "python",
      "pygments_lexer": "ipython3",
      "version": "3.7.10"
    },
    "colab": {
      "provenance": [],
      "include_colab_link": true
    }
  },
  "nbformat": 4,
  "nbformat_minor": 5
}